{
 "cells": [
  {
   "cell_type": "markdown",
   "id": "8d702dc3-b425-4b2c-9cb8-fd317469c7d5",
   "metadata": {},
   "source": [
    "## This notebook is about scikit-learn libraries"
   ]
  },
  {
   "cell_type": "code",
   "execution_count": 8,
   "id": "f3b515e3-0df6-40c6-857f-f367e7f13605",
   "metadata": {},
   "outputs": [],
   "source": [
    "#Importing modules/libraries\n",
    "\n",
    "import numpy as np\n",
    "import pandas as pd\n",
    "import matplotlib.pyplot as plt\n",
    "import sklearn as sk\n",
    "from sklearn import datasets"
   ]
  },
  {
   "cell_type": "markdown",
   "id": "8e0449fd-1584-4a1c-ad60-07f00e96b071",
   "metadata": {},
   "source": [
    "# K-Nearest Neighbors Algorithm in Python and Scikit-Learn"
   ]
  },
  {
   "cell_type": "markdown",
   "id": "6b12a457-8c4f-40de-925d-e5041a22ea51",
   "metadata": {},
   "source": [
    "[1] K-Nearest Neighbors Algorithm is a type of Supervised Machine learning algorithms. This algorithm uses data for training while classifying a new data point or instance and it doesn't assume anything about the underlying data. It calculates the distance of a new data point to all other training data points and selects the K-nearest data points(K-any integer values). Finally it assigns the data point to the class to which the majority of the K data points belong.\n",
    "\n",
    "![Image](https://s3.amazonaws.com/stackabuse/media/k-nearest-neighbors-algorithm-python-scikit-learn-1.png)\n"
   ]
  },
  {
   "cell_type": "markdown",
   "id": "c7549ba2-be91-4ee2-be74-8cae9f5cf9fd",
   "metadata": {},
   "source": [
    "![Image](https://s3.amazonaws.com/stackabuse/media/k-nearest-neighbors-algorithm-python-scikit-learn-2.png)"
   ]
  },
  {
   "cell_type": "markdown",
   "id": "62411a37-7e43-46b8-b879-f94e425faa80",
   "metadata": {},
   "source": [
    "[1] Suppose a dataset with two variables generates the above plot. classify a new data point with 'X' into \"Blue\" class or \"Red\" class. The coordinate values of the data point are x=45 and y=50. Suppose the value of K is 3. The KNN algorithm starts by calculating the distance of point X from all the points. It then finds the 3 nearest points with least distance to point X. This is shown in the figure below. The three nearest points have been encircled. The final step of the KNN algorithm is to assign new point to the class to which majority of the three nearest points belong. From the figure above we can see that the two of the three nearest points belong to the class \"Red\" while one belongs to the class \"Blue\". Therefore the new data point will be classified as \"Red\"."
   ]
  },
  {
   "cell_type": "markdown",
   "id": "9a60983e-5aa3-468a-9a2c-978f6cb60c98",
   "metadata": {},
   "source": [
    "## Machine learning is the process of teaching a computer system on how to make accurate predictions from the data it is fed.  - Wikipedia"
   ]
  },
  {
   "cell_type": "markdown",
   "id": "28b75777-c567-48ac-aff3-6b9dc5ae2272",
   "metadata": {},
   "source": [
    "In Machine learning, the model/algorithm has been taught how to perform certain tasks with a huge amount of data. So that whenever the model/algorithm finds a pattern similar to what it is trained on, it performs tasks automatically without external intervention."
   ]
  },
  {
   "cell_type": "markdown",
   "id": "4c995afa-b199-4919-86f9-9d904caabd7d",
   "metadata": {},
   "source": [
    "Thera are 2 main types of Machine Learning.\n",
    "1. Supervised learning\n",
    "2. Unsupervised learning\n",
    "\n",
    "Supervised learning - Algorithm is trained on a labeled dataset.\n",
    "Supervised learning is classified into two types - Classification and Regression.\n",
    "\n",
    "Classification - The samples may belong to two or more classes. Learning from labeled data is key to predict the class of unlabeled data.\n",
    "\n",
    "Regression - The desired output consists of one or more continous variables."
   ]
  },
  {
   "cell_type": "markdown",
   "id": "1586f395-298a-439a-857e-a8f46cd12483",
   "metadata": {},
   "source": [
    "Scikit-learn is a Python module for machine learning built on top of SciPy. Scikit-learn is used for machine learning such as classification, regression, and clustering algorithms and it works with Python libraries like NumPy and SciPy."
   ]
  },
  {
   "cell_type": "markdown",
   "id": "0721cace-e290-4f50-b381-061d1acb0edd",
   "metadata": {},
   "source": [
    "## Linear Regression model"
   ]
  },
  {
   "cell_type": "markdown",
   "id": "49c9512e-7cd7-43c8-8845-406922b56081",
   "metadata": {},
   "source": [
    "Linear regression model finds relationship between one or more features and continuous target variable and it performs regression task. \n",
    "I'm using Diabetes dataset to explore it using Scikit-learn.\n",
    "\n",
    "The dataset can be obtained from [here](https://github.com/plotly/datasets/blob/master/diabetes.csv)\n",
    "\n",
    "\n",
    "\n"
   ]
  },
  {
   "cell_type": "code",
   "execution_count": 10,
   "id": "2e0725f9-1b4c-42f8-bece-3adbd11436ab",
   "metadata": {},
   "outputs": [
    {
     "name": "stdout",
     "output_type": "stream",
     "text": [
      "Dataset shape: (442, 10)\n",
      "Diabetes labels shape: (442,)\n",
      "Diabetes feature names: ['age', 'sex', 'bmi', 'bp', 's1', 's2', 's3', 's4', 's5', 's6']\n"
     ]
    }
   ],
   "source": [
    "# Load dataset from scikit-learn dataset library\n",
    "\n",
    "diabetes = datasets.load_diabetes()\n",
    "print('Dataset shape:',diabetes.data.shape)\n",
    "print('Diabetes labels shape:',diabetes.target.shape)\n",
    "print('Diabetes feature names:',diabetes.feature_names)"
   ]
  },
  {
   "cell_type": "markdown",
   "id": "f2053308-916e-4f43-ad2b-c9c0fa08dd35",
   "metadata": {},
   "source": [
    "Diabetes dataset consists of a total of 422 samples with 10 features each.\n",
    "The dataset can be split into the test and train sets using train_test_split function of sklearn.model_selection package."
   ]
  },
  {
   "cell_type": "markdown",
   "id": "24d109b0-94eb-4dab-a897-8a92bc5c3455",
   "metadata": {},
   "source": [
    "# References"
   ]
  },
  {
   "cell_type": "markdown",
   "id": "dc481da0-00d8-456b-85be-6abe274f1814",
   "metadata": {},
   "source": [
    "1. [K-Nearest Neighbors Algorithm in Python and Scikit-Learn](https://stackabuse.com/k-nearest-neighbors-algorithm-in-python-and-scikit-learn/)\n",
    "\n",
    "2. [Mastering Markdown](https://guides.github.com/features/mastering-markdown/)\n",
    "\n",
    "3. [Useful Jupyter Notebook Shortcuts](https://www.earthdatascience.org/courses/intro-to-earth-data-science/open-reproducible-science/jupyter-python/jupyter-notebook-shortcuts/)"
   ]
  },
  {
   "cell_type": "code",
   "execution_count": null,
   "id": "01007fef-35ad-40c6-b787-470ac8a227ce",
   "metadata": {},
   "outputs": [],
   "source": []
  },
  {
   "cell_type": "code",
   "execution_count": null,
   "id": "1dbabf19-d371-4834-812a-a146de672dfc",
   "metadata": {},
   "outputs": [],
   "source": []
  }
 ],
 "metadata": {
  "kernelspec": {
   "display_name": "Python 3",
   "language": "python",
   "name": "python3"
  },
  "language_info": {
   "codemirror_mode": {
    "name": "ipython",
    "version": 3
   },
   "file_extension": ".py",
   "mimetype": "text/x-python",
   "name": "python",
   "nbconvert_exporter": "python",
   "pygments_lexer": "ipython3",
   "version": "3.8.8"
  }
 },
 "nbformat": 4,
 "nbformat_minor": 5
}

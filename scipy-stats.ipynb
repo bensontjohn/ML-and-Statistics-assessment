{
 "cells": [
  {
   "cell_type": "markdown",
   "id": "94f06019-9cc2-470b-943c-729a91cbea40",
   "metadata": {},
   "source": [
    "## This notebook is about scipy.stats Python library"
   ]
  },
  {
   "cell_type": "code",
   "execution_count": 1,
   "id": "382dd8cf-3c73-44f7-8773-fa08dccdc457",
   "metadata": {},
   "outputs": [],
   "source": [
    "import numpy as np\n",
    "import pandas as pd\n",
    "import matplotlib.pyplot as plt\n",
    "import scipy.stats as stats"
   ]
  },
  {
   "cell_type": "markdown",
   "id": "472d76be-628c-487a-ad8a-82519a2a3d7a",
   "metadata": {},
   "source": []
  },
  {
   "cell_type": "code",
   "execution_count": null,
   "id": "2ed41a4e-f75b-4b4b-a3d6-dd136d11ca65",
   "metadata": {},
   "outputs": [],
   "source": []
  },
  {
   "cell_type": "code",
   "execution_count": null,
   "id": "df444e93-7a9d-4f1a-88d8-4f8c204f5e74",
   "metadata": {},
   "outputs": [],
   "source": []
  },
  {
   "cell_type": "markdown",
   "id": "ec21955f-8767-4bb9-8de3-ee5192fcf5a5",
   "metadata": {},
   "source": []
  },
  {
   "cell_type": "markdown",
   "id": "3726278c-c72f-44e6-b892-5d92435cc1f5",
   "metadata": {},
   "source": [
    "### Hypothesis testing"
   ]
  },
  {
   "cell_type": "markdown",
   "id": "8b38edfc-ddff-4d6c-98a6-3042e4c698d4",
   "metadata": {},
   "source": [
    "Hypothesis testing is a statistical method that is used in making statistical decisions using experimental data. It is an essential procedure in statistics that evaluates two mutually exclusive statements about a population to determine which statement is best supported by the sample data. Hypothesis test is the reason to find something statistically signififcant.\n",
    "\n",
    "The intent of hypothesis testing is formally examine two opposing conjectures (hypotheses), H0 and HA. These two hypotheses are mutually exclusive and\n",
    "exhaustive so that one is true to the exclusion of the other."
   ]
  },
  {
   "cell_type": "markdown",
   "id": "fc14c349-57f4-488b-b588-efe2b1088981",
   "metadata": {},
   "source": [
    "**Null hypothesis :** This hypothesis is a default position that there is no relationship  between two measured phenomena, or no association among groups. It is a basic assumption or made based on domain or problem knowledge."
   ]
  },
  {
   "cell_type": "markdown",
   "id": "983d02c3-1f3c-409d-8c9a-43576a246363",
   "metadata": {},
   "source": [
    "**Alternative hypothesis :** This hypothesis testing that is contrary to the null hypothesis.  It is usually taken to be that the observations are the result of a real effect. "
   ]
  },
  {
   "cell_type": "markdown",
   "id": "84645be7-eaed-4067-8f7f-9bb01673700f",
   "metadata": {},
   "source": [
    "![](images/Hypothesis.jpg)"
   ]
  },
  {
   "cell_type": "markdown",
   "id": "986cf654-963f-4c34-8503-fe7636aad9f0",
   "metadata": {},
   "source": [
    "Hypothesis testing involves the statement of a null hypothesis and the selection of a level of significance. The level of significance refers to the degree of significance in which we accept or reject the null-hypothesis. The null hypothesis is either true or false and represents the default claim for a treatment or procedure. For example, when examining the effectiveness of a drug, the null hypothesis would be that the drug has no effect on a disease.\n",
    "\n",
    "After formulating the null hypothesis and choosing a level of significance, we acquire data through observation. Statistical calculations tell us whether or not we should reject the null hypothesis.\n",
    "\n",
    "In an ideal world, we would always reject the null hypothesis when it is false, and we would not reject the null hypothesis when it is indeed true."
   ]
  },
  {
   "cell_type": "markdown",
   "id": "c1e4e78c-9625-4f72-a2fd-7a0e0692fae9",
   "metadata": {},
   "source": [
    "To demonstrate, take an example where a person has a visible bump in their stomach. Doctors may assume that the bump is fibroid. \n",
    "\n",
    "Lets take our initial conclusion (null hypothesis) is that same person has a fibroid while the alternate hypothesis is that the person does not have a fibroid.\n",
    "\n",
    "Null Hypothesis - H0\n",
    "Alternate Hypothesis - H1\n",
    "\n",
    "For hypothesis testing, the data pertaining to the hypothesis is collected and analysed to decide whether the null Hypothesis(H0) can be accepted or rejected.\n",
    "If the null hypothesis is H0 is rejected, then the alternate hypothesis H1 is accepted.\n"
   ]
  },
  {
   "cell_type": "markdown",
   "id": "e06bef41-6efb-48eb-8418-014507d6b343",
   "metadata": {},
   "source": [
    "When performing a Hypothesis Test, two types of errors could occur:\n",
    " - Type-I Error: reject the Null Hypothesis when it is actually true.\n",
    " - Type-II Error: accept the Null Hypothesis when it is actually false.\n",
    " \n",
    "The following table resumes Type I and Type 2 Errors:\n",
    "\n",
    "![](images/typeerrors.jpg)\n"
   ]
  },
  {
   "cell_type": "markdown",
   "id": "c2c91f0c-c467-42eb-a2d0-fdcd4742a398",
   "metadata": {},
   "source": [
    "### P-value"
   ]
  },
  {
   "cell_type": "markdown",
   "id": "b1134a7d-c86d-4992-9c2d-c953378e9213",
   "metadata": {},
   "source": [
    "A p-value is the measure of the probability that an observed difference has occured by random chance. The job of the p-value is to decide whether we should accept our Null Hypothesis or reject it. The lower the p-value, the greater the statistical significance of the observed difference. p-values are often reported whenever you perform a statistical significance test (like t-test, chi-square test etc). These tests typically return a computed test statistic and the associated p-value. This reported value is used to establish the statistical significance of the relationships being tested.\n",
    "\n",
    "If the p-value is lower than the predetermined significance value(often called alpha or threshold value) then we reject the null hypothesis. The alpha should always be set before an experiment to avoid bias.\n",
    "For example, consider a large population data to be in Normal Distribution so while selecting alpha for that distribution we select it as 0.05 (it means we are accepting if it lies in the 95% of our distribution). This means that if our p-value is less than 0.05 we will reject the null hypothesis."
   ]
  },
  {
   "cell_type": "markdown",
   "id": "c25ee718-09dd-4b4e-a7b8-a24261ab84eb",
   "metadata": {},
   "source": [
    "![](images/statisticalsignificance.jpg)"
   ]
  },
  {
   "cell_type": "markdown",
   "id": "88618fb0-cf56-44de-80e9-c2c0b7c26bec",
   "metadata": {},
   "source": [
    "## T-test"
   ]
  },
  {
   "cell_type": "markdown",
   "id": "3b6bb33a-e0d5-4bb6-8594-5e1908b56408",
   "metadata": {},
   "source": [
    "A t-test is a statistical test that is used to compare the means of two groups. It is often used in hypothesis testing to determine whether a process or treatment actually has an effect on the population of interest, or whether two groups are different from one another.\n",
    "\n",
    "The t- statistic was introduced in 1908 by William Sealy Gosset, a chemist working for the Guinness brewery in Dublin, Ireland. The t-distribution was first derived as a posterior distribution in 1876 by Helmert and Lüroth. In the English-language literature it takes its name from William Sealy Gosset’s 1908 paper in Biometrika under the pseudonym “Student.” Gosset worked at the Guinness Brewery in Dublin, Ireland, and was interested in the problems of small samples, for example of the chemical properties of barley where sample sizes might be as small as three participants. Gosset’s paper refers to the distribution as the “frequency distribution of standard deviations of samples drawn from a normal population.” It became well known through the work of Ronald A. Fisher, who called the distribution “Student’s distribution” and referred to the value as t."
   ]
  },
  {
   "cell_type": "markdown",
   "id": "c31e5063-1bb5-4762-af6f-63319d6a026d",
   "metadata": {},
   "source": [
    "Consider we ran a customer satisfaction survey for your company and there are lots of results to analyze. The company wants to know if men and women give different responses. For example, do men on average give the company a lower Net Promoter Score(NPS) than women?\n",
    "\n",
    "When checking the data, the average rating from male respondents was 9, compared to an average score of 12 from female respondents. How do you know if 9 is significantly different from 12? This is a good example to carry out t-test. The t-test is a way to determine whether two numbers are significantly different from one another. \n",
    "\n",
    "Different types of t-test:\n",
    "\n",
    " 1. One-sample t-test: If there is one group being compared against a standard value, perform a one-sample t-test. This test looks at whether the mean of data from one group is different from value specified.\n",
    " Example: The company’s goal is to have an NPS that’s significantly higher than the industry standard of 5. The company’s latest survey puts its NPS at 10. Is an NPS of 10 significantly higher than the industry standard of 5?\n",
    " \n",
    " 2. Two-sample t-test: If the groups come from two different populations (e.g. two different species), then perform a two-sample t-test. This test is also known as independent t-test. This test examines whether the means of two independent groups are significantly different from one another.\n",
    " Example: Your hypothesis is that men give your company a lower NPS than women.The average NPS from male respondents is 9, while the average score from women is 12. Is 9 significantly different from 12?\n",
    " \n",
    " 3. Paried t-test: If the groups come from a single population (e.g. measuring before and after an experimental treatment), perform a paired t-test.\n",
    " This test is for when one group of people is given the same survey twice. A paired t-test lets you know if the mean changed between the first and second survey.\n",
    " Example: You surveyed the same group of customers twice: once in April and a second time in May, after they had seen an ad for your company. Did your company’s NPS change after customers saw the ad?\n",
    " "
   ]
  },
  {
   "cell_type": "markdown",
   "id": "cf95035b-9992-4c1d-88cf-a0f4bfd835f9",
   "metadata": {},
   "source": [
    "## How to conduct a t-test\n",
    "\n",
    "1. Calculate the t-statistic:\n",
    "Each type of t-test has a different formula for calculating the t-statistic.\n",
    "\n",
    "2. Calculate the degrees of freedom: \n",
    "Degrees of freedom are the number of ways the mean could vary. In this case, the degrees of freedom are the number of NPS ratings that you could have in a given group of respondents. Similar to the t-statistic, the formula for degrees of freedom will vary depending on the type of t-test you perform.\n",
    "\n",
    "3. Determine the critical value: \n",
    "The critical value is the threshold at which the difference between two numbers is considered to be statistically significant.\n",
    "\n",
    "4. Compare absolute value of the t-statistic to critical value: \n",
    "If your t-statistic is larger than your critical value, your difference is significant. If your t-statistic is smaller, then your two numbers are, statistically speaking, indistinguishable."
   ]
  },
  {
   "cell_type": "markdown",
   "id": "48edadd3-9a0d-4bfe-8573-6ede6197931f",
   "metadata": {},
   "source": [
    "### Iris dataset"
   ]
  },
  {
   "cell_type": "code",
   "execution_count": 2,
   "id": "0e66faba-973f-49ec-b473-ee17b5fe2ffb",
   "metadata": {},
   "outputs": [
    {
     "data": {
      "text/html": [
       "<div>\n",
       "<style scoped>\n",
       "    .dataframe tbody tr th:only-of-type {\n",
       "        vertical-align: middle;\n",
       "    }\n",
       "\n",
       "    .dataframe tbody tr th {\n",
       "        vertical-align: top;\n",
       "    }\n",
       "\n",
       "    .dataframe thead th {\n",
       "        text-align: right;\n",
       "    }\n",
       "</style>\n",
       "<table border=\"1\" class=\"dataframe\">\n",
       "  <thead>\n",
       "    <tr style=\"text-align: right;\">\n",
       "      <th></th>\n",
       "      <th>count</th>\n",
       "      <th>mean</th>\n",
       "      <th>std</th>\n",
       "      <th>min</th>\n",
       "      <th>25%</th>\n",
       "      <th>50%</th>\n",
       "      <th>75%</th>\n",
       "      <th>max</th>\n",
       "    </tr>\n",
       "    <tr>\n",
       "      <th>species</th>\n",
       "      <th></th>\n",
       "      <th></th>\n",
       "      <th></th>\n",
       "      <th></th>\n",
       "      <th></th>\n",
       "      <th></th>\n",
       "      <th></th>\n",
       "      <th></th>\n",
       "    </tr>\n",
       "  </thead>\n",
       "  <tbody>\n",
       "    <tr>\n",
       "      <th>setosa</th>\n",
       "      <td>50.0</td>\n",
       "      <td>3.418</td>\n",
       "      <td>0.381024</td>\n",
       "      <td>2.3</td>\n",
       "      <td>3.125</td>\n",
       "      <td>3.4</td>\n",
       "      <td>3.675</td>\n",
       "      <td>4.4</td>\n",
       "    </tr>\n",
       "    <tr>\n",
       "      <th>versicolor</th>\n",
       "      <td>50.0</td>\n",
       "      <td>2.770</td>\n",
       "      <td>0.313798</td>\n",
       "      <td>2.0</td>\n",
       "      <td>2.525</td>\n",
       "      <td>2.8</td>\n",
       "      <td>3.000</td>\n",
       "      <td>3.4</td>\n",
       "    </tr>\n",
       "    <tr>\n",
       "      <th>virginica</th>\n",
       "      <td>50.0</td>\n",
       "      <td>2.974</td>\n",
       "      <td>0.322497</td>\n",
       "      <td>2.2</td>\n",
       "      <td>2.800</td>\n",
       "      <td>3.0</td>\n",
       "      <td>3.175</td>\n",
       "      <td>3.8</td>\n",
       "    </tr>\n",
       "  </tbody>\n",
       "</table>\n",
       "</div>"
      ],
      "text/plain": [
       "            count   mean       std  min    25%  50%    75%  max\n",
       "species                                                        \n",
       "setosa       50.0  3.418  0.381024  2.3  3.125  3.4  3.675  4.4\n",
       "versicolor   50.0  2.770  0.313798  2.0  2.525  2.8  3.000  3.4\n",
       "virginica    50.0  2.974  0.322497  2.2  2.800  3.0  3.175  3.8"
      ]
     },
     "execution_count": 2,
     "metadata": {},
     "output_type": "execute_result"
    }
   ],
   "source": [
    "df= pd.read_csv(\"data/iris.csv\")\n",
    "df.head(3)\n",
    "\n",
    "df.groupby(\"species\")['sepal_width'].describe()"
   ]
  },
  {
   "cell_type": "code",
   "execution_count": 3,
   "id": "7d2094de-61b9-4287-9b82-f1da0d44c568",
   "metadata": {},
   "outputs": [],
   "source": [
    "# Creating 2 dataframes for the respective flower species\n",
    "setosa = df[(df['species'] == 'setosa')]\n",
    "versicolor = df[(df['species'] == 'versicolor')]"
   ]
  },
  {
   "cell_type": "markdown",
   "id": "5679e460-28ea-4200-b556-f592010cc502",
   "metadata": {},
   "source": [
    "The dataset used here for t-test is the Iris dataset to find if there is a significant difference in the sepal width between the species Iris-setosa and Iris-versicolor which are variables “sepal_width” and “species” respectively.. The data set contains the sepal and petal length and width of various floral species. The purpose of the current study was to test if there is a significant difference in the sepal width between the floral species Iris-setosa and Iris-versicolor.\n"
   ]
  },
  {
   "cell_type": "markdown",
   "id": "410f259a-fb7c-4e92-b40a-d216a9c0897e",
   "metadata": {},
   "source": [
    "Levene's test is used to test if k samples have equal variances. Equal variances across samples is called homogeneity of variance. Some statistical tests, for example the analysis of variance, assume that variances are equal across groups or samples. The Levene test can be used to verify that assumption.\n",
    "\n",
    "Levene's test is an inferential statistic used to assess the equality of variances in different samples. Some common statistical procedures assume that variances of the populations from which different samples are drawn are equal. Levene's test assesses this assumption. It tests the null\n",
    "hypothesis that the population variances are equal (called homogeneity of variance). If the resulting p‐value of Levene's test is less than some critical value (typically 0.05), the obtained differences in sample variances are unlikely to have occurred based on random sampling. Thus, the null hypothesis of equal variances is rejected and it is concluded that there is a difference between the variances in the population.  Procedures which typically assume homogeneity of variance include analysis of variance and t‐tests. One advantage of Levene's test is that it does not require normality of the underlying data. Levene's test is often used before a comparison of means. When Levene's test is significant, modified procedures are used that do not assume equality of variance.  "
   ]
  },
  {
   "cell_type": "markdown",
   "id": "7453b7e5-5d1e-4a4c-9f95-e52f401ea415",
   "metadata": {},
   "source": [
    "We are using Leven's test for homogeneity of variance. The method to conduct this test is stats.levene()."
   ]
  },
  {
   "cell_type": "code",
   "execution_count": 4,
   "id": "d6eee092-5a14-4957-a998-480749426460",
   "metadata": {},
   "outputs": [
    {
     "data": {
      "text/plain": [
       "LeveneResult(statistic=0.6635459332943233, pvalue=0.4172859681296204)"
      ]
     },
     "execution_count": 4,
     "metadata": {},
     "output_type": "execute_result"
    }
   ],
   "source": [
    "stats.levene(setosa['sepal_width'], versicolor['sepal_width'])"
   ]
  },
  {
   "cell_type": "code",
   "execution_count": 5,
   "id": "1ca39a1b-42ff-4cf4-b5c7-d86fb69efc82",
   "metadata": {},
   "outputs": [
    {
     "data": {
      "text/plain": [
       "Text(0.5, 0, 'Length')"
      ]
     },
     "execution_count": 5,
     "metadata": {},
     "output_type": "execute_result"
    },
    {
     "data": {
      "image/png": "[encoded data removed]",
      "text/plain": [
       "<Figure size 432x288 with 1 Axes>"
      ]
     },
     "metadata": {
      "needs_background": "light"
     },
     "output_type": "display_data"
    }
   ],
   "source": [
    "# Using histogram to test assumption of normality.\n",
    "\n",
    "setosa['sepal_width'].plot(kind=\"hist\", title=\"Setosa Sepal Width\")\n",
    "plt.xlabel(\"Length\")"
   ]
  },
  {
   "cell_type": "code",
   "execution_count": 6,
   "id": "e556eb00-d597-4c67-b737-46e19b3aeb61",
   "metadata": {},
   "outputs": [
    {
     "data": {
      "text/plain": [
       "Text(0.5, 0, 'Length')"
      ]
     },
     "execution_count": 6,
     "metadata": {},
     "output_type": "execute_result"
    },
    {
     "data": {
      "image/png": "[encoded data removed]",
      "text/plain": [
       "<Figure size 432x288 with 1 Axes>"
      ]
     },
     "metadata": {
      "needs_background": "light"
     },
     "output_type": "display_data"
    }
   ],
   "source": [
    "versicolor['sepal_width'].plot(kind=\"hist\", title= \"Versicolor Sepal Width\", color=\"green\")\n",
    "plt.xlabel(\"Length\")"
   ]
  },
  {
   "cell_type": "markdown",
   "id": "f5f795a7-dfa7-4838-9ed1-d22df9da81e5",
   "metadata": {},
   "source": [
    "Each variable appears to be fairly normally distributed.\n",
    "\n",
    "Using q-q plot, to get a sense of normality visualizing the data as q-q plot."
   ]
  },
  {
   "cell_type": "markdown",
   "id": "aeb5f58c-9e13-4f36-a0a9-5690ff889ae1",
   "metadata": {},
   "source": [
    "Q Q Plots (Quantile-Quantile plots) are plots of two quantiles against each other. A quantile is a fraction where certain values fall below that quantile. For example, the median is a quantile where 50% of the data fall below that point and 50% lie above it. The purpose of Q Q plots is to find out if two sets of data come from the same distribution. A 45 degree angle is plotted on the Q Q plot; if the two data sets come from a common distribution, the points will fall on that reference line."
   ]
  },
  {
   "cell_type": "code",
   "execution_count": 7,
   "id": "c9e13d1e-2cb0-4c30-b7e6-f65a63392e3c",
   "metadata": {},
   "outputs": [
    {
     "data": {
      "text/plain": [
       "Text(0.5, 1.0, 'Setosa Sepal Width Q-Q Plot')"
      ]
     },
     "execution_count": 7,
     "metadata": {},
     "output_type": "execute_result"
    },
    {
     "data": {
      "image/png": "[encoded data removed]",
      "text/plain": [
       "<Figure size 432x288 with 1 Axes>"
      ]
     },
     "metadata": {
      "needs_background": "light"
     },
     "output_type": "display_data"
    }
   ],
   "source": [
    "stats.probplot(setosa['sepal_width'], dist=\"norm\", plot= plt)\n",
    "plt.title(\"Setosa Sepal Width Q-Q Plot\")"
   ]
  },
  {
   "cell_type": "code",
   "execution_count": 8,
   "id": "5c4eccba-d23e-4a2b-acb0-a7612ff4fe00",
   "metadata": {},
   "outputs": [
    {
     "data": {
      "text/plain": [
       "Text(0.5, 1.0, 'Versicolor Sepal Width Q-Q Plot')"
      ]
     },
     "execution_count": 8,
     "metadata": {},
     "output_type": "execute_result"
    },
    {
     "data": {
      "image/png": "[encoded data removed]",
      "text/plain": [
       "<Figure size 432x288 with 1 Axes>"
      ]
     },
     "metadata": {
      "needs_background": "light"
     },
     "output_type": "display_data"
    }
   ],
   "source": [
    "stats.probplot(versicolor['sepal_width'], dist=\"norm\", plot= plt)\n",
    "plt.title(\"Versicolor Sepal Width Q-Q Plot\")"
   ]
  },
  {
   "cell_type": "markdown",
   "id": "788a7578-d330-4860-8226-d93ec951a177",
   "metadata": {},
   "source": [
    "In q-q plot, the data should on the red line. If not, it’s an indication that there are some deviations from normality.\n",
    "There is some deviation from normality in the Setosa q-q plot, but it does not appear to be a large violation. "
   ]
  },
  {
   "cell_type": "markdown",
   "id": "2d4ed034-819c-4a5e-a066-03132a2ffb77",
   "metadata": {},
   "source": [
    "Let's use Shapiro-Wilk test for normality which is the stats.shaprio() method.\n",
    "\n",
    "Shapiro-Wilk test was introduced by Shapiro and Wilk in 1965. It is an inferential test to determine whether a random sample comes from a population with a normal distribution. If the test statistic, W, is significant, then the null hypothesis that the distribution is normal should be rejected. Because so many of the most common statistical tests are designed for normally distributed data, Shapiro–Wilk is a useful test to identify those data sets that require a different approach."
   ]
  },
  {
   "cell_type": "code",
   "execution_count": 9,
   "id": "116e2835-9ce9-423d-b2e2-9cfa74e9e686",
   "metadata": {},
   "outputs": [
    {
     "data": {
      "text/plain": [
       "ShapiroResult(statistic=0.968691885471344, pvalue=0.20465604960918427)"
      ]
     },
     "execution_count": 9,
     "metadata": {},
     "output_type": "execute_result"
    }
   ],
   "source": [
    "stats.shapiro(setosa['sepal_width'])"
   ]
  },
  {
   "cell_type": "code",
   "execution_count": 10,
   "id": "db2fea82-0cd5-4ca4-bcdd-8e2227ef2f9a",
   "metadata": {},
   "outputs": [
    {
     "data": {
      "text/plain": [
       "ShapiroResult(statistic=0.9741330742835999, pvalue=0.33798879384994507)"
      ]
     },
     "execution_count": 10,
     "metadata": {},
     "output_type": "execute_result"
    }
   ],
   "source": [
    "stats.shapiro(versicolor['sepal_width'])"
   ]
  },
  {
   "cell_type": "markdown",
   "id": "ef751a78-7ed1-45fd-a058-ecace21adb60",
   "metadata": {},
   "source": [
    "Neither of the tests for normality we significant meaning neither of the variables violates the assumption of normality."
   ]
  },
  {
   "cell_type": "code",
   "execution_count": 11,
   "id": "b4c86240-3b8e-4c68-99db-424a3f70ed0a",
   "metadata": {},
   "outputs": [
    {
     "data": {
      "text/plain": [
       "Ttest_indResult(statistic=9.282772555558111, pvalue=4.362239016010214e-15)"
      ]
     },
     "execution_count": 11,
     "metadata": {},
     "output_type": "execute_result"
    }
   ],
   "source": [
    "stats.ttest_ind(setosa['sepal_width'], versicolor['sepal_width'])"
   ]
  },
  {
   "cell_type": "markdown",
   "id": "67c6da9a-6355-422a-a04e-8f989b54d81c",
   "metadata": {},
   "source": [
    "The Independent t-test results are significant! Therefore, one can reject the null hypothesis in support of the alternative.\n",
    "The degrees of freedom(df) = (50+50) - = 98"
   ]
  },
  {
   "cell_type": "markdown",
   "id": "7b4c48b3-c0a5-4846-a174-b0b7074580db",
   "metadata": {},
   "source": [
    "Setosa’s average sepal width (M= 3.418, SD= 0.381) is wider and has greater variation than Versicolor (M= 2.770, SD= 0.314). Levene’s test for homogeneity of variances indicated equality of variance (F= 0.664, p=0.417). Hence an Independent t-test was used.\n",
    "\n",
    "The final result shows that there is a significant difference in the sepal width between Setosa and Versicolor (t(98)=9.282, p=4.362)."
   ]
  },
  {
   "cell_type": "markdown",
   "id": "82f1140b-afea-4021-9e3c-daea47db9cea",
   "metadata": {},
   "source": [
    "### ANOVA"
   ]
  },
  {
   "cell_type": "code",
   "execution_count": 12,
   "id": "f2797d49-951e-4c5d-81ee-3c0cf0d0ba59",
   "metadata": {},
   "outputs": [
    {
     "data": {
      "text/plain": [
       "Index(['sepal_length', 'sepal_width', 'petal_length', 'petal_width',\n",
       "       'species'],\n",
       "      dtype='object')"
      ]
     },
     "execution_count": 12,
     "metadata": {},
     "output_type": "execute_result"
    }
   ],
   "source": [
    "import statsmodels.api as sm\n",
    "df.columns"
   ]
  },
  {
   "cell_type": "code",
   "execution_count": 13,
   "id": "16ae9473-3376-4254-b766-f65b07bc4f90",
   "metadata": {},
   "outputs": [
    {
     "data": {
      "text/plain": [
       "sepal_length    0\n",
       "sepal_width     0\n",
       "petal_length    0\n",
       "petal_width     0\n",
       "species         0\n",
       "dtype: int64"
      ]
     },
     "execution_count": 13,
     "metadata": {},
     "output_type": "execute_result"
    }
   ],
   "source": [
    "df.isnull().sum()"
   ]
  },
  {
   "cell_type": "code",
   "execution_count": 14,
   "id": "52de41c7-84a3-4ff1-b3fa-f43172db1dda",
   "metadata": {},
   "outputs": [
    {
     "data": {
      "text/plain": [
       "array(['setosa', 'versicolor', 'virginica'], dtype=object)"
      ]
     },
     "execution_count": 14,
     "metadata": {},
     "output_type": "execute_result"
    }
   ],
   "source": [
    "(df[\"species\"].unique())"
   ]
  },
  {
   "cell_type": "code",
   "execution_count": 15,
   "id": "6381d5d2-3dd3-447b-ba8a-f93b7a2e7160",
   "metadata": {},
   "outputs": [
    {
     "data": {
      "text/plain": [
       "count    150.000000\n",
       "mean       1.198667\n",
       "std        0.763161\n",
       "min        0.100000\n",
       "25%        0.300000\n",
       "50%        1.300000\n",
       "75%        1.800000\n",
       "max        2.500000\n",
       "Name: petal_width, dtype: float64"
      ]
     },
     "execution_count": 15,
     "metadata": {},
     "output_type": "execute_result"
    }
   ],
   "source": [
    "df.petal_width.describe()"
   ]
  },
  {
   "cell_type": "markdown",
   "id": "42c45ea3-6d42-437b-95a8-c61daa07eb8a",
   "metadata": {},
   "source": [
    "### One way ANOVA test"
   ]
  },
  {
   "cell_type": "code",
   "execution_count": 16,
   "id": "973c06dd-df79-4bea-9bb9-5ce958e78a01",
   "metadata": {},
   "outputs": [
    {
     "data": {
      "text/plain": [
       "F_onewayResult(statistic=555.8702565323317, pvalue=5.738282463819433e-122)"
      ]
     },
     "execution_count": 16,
     "metadata": {},
     "output_type": "execute_result"
    }
   ],
   "source": [
    "from scipy.stats import f_oneway\n",
    "\n",
    "class1 = df.petal_width\n",
    "class2 = df.sepal_length\n",
    "class3 = df.petal_length\n",
    "\n",
    "f_oneway(class1, class2, class3)"
   ]
  },
  {
   "cell_type": "markdown",
   "id": "a1ca00e3-8e6e-4fcc-9dfc-0c4b3cef6691",
   "metadata": {},
   "source": [
    "### Two way ANOVA test"
   ]
  },
  {
   "cell_type": "code",
   "execution_count": 18,
   "id": "89569758-f65e-412a-b90a-fcdb7a474665",
   "metadata": {},
   "outputs": [],
   "source": [
    "from statsmodels.formula.api import ols\n",
    "import warnings\n",
    "warnings.filterwarnings( \"ignore\" )\n",
    "\n",
    "petal = df.petal_width\n",
    "sepal = df.sepal_length\n",
    "species = df.species"
   ]
  },
  {
   "cell_type": "markdown",
   "id": "1b4d2a0c-ebf0-4828-bcb6-fc78b9d9af31",
   "metadata": {},
   "source": [
    "# References"
   ]
  },
  {
   "cell_type": "code",
   "execution_count": null,
   "id": "04d4074a-abff-497c-a1bd-cc3c7bd4cf32",
   "metadata": {},
   "outputs": [],
   "source": []
  },
  {
   "cell_type": "code",
   "execution_count": null,
   "id": "d5175abd-f857-4a4a-89e0-3c3d575b092e",
   "metadata": {},
   "outputs": [],
   "source": []
  },
  {
   "cell_type": "markdown",
   "id": "2b96e65a-0783-4d91-8909-eed95fe04550",
   "metadata": {},
   "source": [
    "1. https://www.statisticshowto.com/probability-and-statistics/hypothesis-testing/anova/\n",
    "2. https://en.wikipedia.org/wiki/Analysis_of_variance\n",
    "3. https://www.investopedia.com/terms/a/anova.asp\n",
    "4. https://statistics.laerd.com/statistical-guides/one-way-anova-statistical-guide.php\n",
    "5. https://courses.lumenlearning.com/boundless-statistics/chapter/the-t-test/"
   ]
  },
  {
   "cell_type": "code",
   "execution_count": null,
   "id": "12fa897c-f941-46a0-8b71-1f4aad61a80b",
   "metadata": {},
   "outputs": [],
   "source": []
  }
 ],
 "metadata": {
  "kernelspec": {
   "display_name": "Python 3",
   "language": "python",
   "name": "python3"
  },
  "language_info": {
   "codemirror_mode": {
    "name": "ipython",
    "version": 3
   },
   "file_extension": ".py",
   "mimetype": "text/x-python",
   "name": "python",
   "nbconvert_exporter": "python",
   "pygments_lexer": "ipython3",
   "version": "3.8.8"
  }
 },
 "nbformat": 4,
 "nbformat_minor": 5
}

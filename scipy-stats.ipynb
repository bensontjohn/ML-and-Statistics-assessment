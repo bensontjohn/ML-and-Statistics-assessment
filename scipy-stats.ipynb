{
 "cells": [
  {
   "cell_type": "markdown",
   "id": "94f06019-9cc2-470b-943c-729a91cbea40",
   "metadata": {},
   "source": [
    "## This notebook is about scipy.stats Python library"
   ]
  },
  {
   "cell_type": "code",
   "execution_count": 1,
   "id": "382dd8cf-3c73-44f7-8773-fa08dccdc457",
   "metadata": {},
   "outputs": [],
   "source": [
    "import numpy as np\n",
    "import pandas as pd\n",
    "import matplotlib.pyplot as plt\n",
    "import scipy.stats as stats"
   ]
  },
  {
   "cell_type": "markdown",
   "id": "472d76be-628c-487a-ad8a-82519a2a3d7a",
   "metadata": {},
   "source": []
  },
  {
   "cell_type": "code",
   "execution_count": null,
   "id": "2ed41a4e-f75b-4b4b-a3d6-dd136d11ca65",
   "metadata": {},
   "outputs": [],
   "source": []
  },
  {
   "cell_type": "code",
   "execution_count": null,
   "id": "df444e93-7a9d-4f1a-88d8-4f8c204f5e74",
   "metadata": {},
   "outputs": [],
   "source": []
  },
  {
   "cell_type": "markdown",
   "id": "ec21955f-8767-4bb9-8de3-ee5192fcf5a5",
   "metadata": {},
   "source": []
  },
  {
   "cell_type": "markdown",
   "id": "3726278c-c72f-44e6-b892-5d92435cc1f5",
   "metadata": {},
   "source": [
    "### Hypothesis testing"
   ]
  },
  {
   "cell_type": "markdown",
   "id": "8b38edfc-ddff-4d6c-98a6-3042e4c698d4",
   "metadata": {},
   "source": [
    "Hypothesis testing is a statistical method that is used in making statistical decisions using experimental data. It is an essential procedure in statistics that evaluates two mutually exclusive statements about a population to determine which statement is best supported by the sample data. Hypothesis test is the reason to find something statistically signififcant.\n",
    "\n",
    "The intent of hypothesis testing is formally examine two opposing conjectures (hypotheses), H0 and HA. These two hypotheses are mutually exclusive and\n",
    "exhaustive so that one is true to the exclusion of the other."
   ]
  },
  {
   "cell_type": "markdown",
   "id": "fc14c349-57f4-488b-b588-efe2b1088981",
   "metadata": {},
   "source": [
    "**Null hypothesis :** This hypothesis is a default position that there is no relationship  between two measured phenomena, or no association among groups. It is a basic assumption or made based on domain or problem knowledge."
   ]
  },
  {
   "cell_type": "markdown",
   "id": "983d02c3-1f3c-409d-8c9a-43576a246363",
   "metadata": {},
   "source": [
    "**Alternative hypothesis :** This hypothesis testing that is contrary to the null hypothesis.  It is usually taken to be that the observations are the result of a real effect. "
   ]
  },
  {
   "cell_type": "markdown",
   "id": "84645be7-eaed-4067-8f7f-9bb01673700f",
   "metadata": {},
   "source": [
    "![](images/Hypothesis.jpg)"
   ]
  },
  {
   "cell_type": "markdown",
   "id": "986cf654-963f-4c34-8503-fe7636aad9f0",
   "metadata": {},
   "source": [
    "Hypothesis testing involves the statement of a null hypothesis and the selection of a level of significance. The level of significance refers to the degree of significance in which we accept or reject the null-hypothesis. The null hypothesis is either true or false and represents the default claim for a treatment or procedure. For example, when examining the effectiveness of a drug, the null hypothesis would be that the drug has no effect on a disease.\n",
    "\n",
    "After formulating the null hypothesis and choosing a level of significance, we acquire data through observation. Statistical calculations tell us whether or not we should reject the null hypothesis.\n",
    "\n",
    "In an ideal world, we would always reject the null hypothesis when it is false, and we would not reject the null hypothesis when it is indeed true."
   ]
  },
  {
   "cell_type": "markdown",
   "id": "c1e4e78c-9625-4f72-a2fd-7a0e0692fae9",
   "metadata": {},
   "source": [
    "To demonstrate, take an example where a person has a visible bump in their stomach. Doctors may assume that the bump is fibroid. \n",
    "\n",
    "Lets take our initial conclusion (null hypothesis) is that same person has a fibroid while the alternate hypothesis is that the person does not have a fibroid.\n",
    "\n",
    "Null Hypothesis - H0\n",
    "Alternate Hypothesis - H1\n",
    "\n",
    "For hypothesis testing, the data pertaining to the hypothesis is collected and analysed to decide whether the null Hypothesis(H0) can be accepted or rejected.\n",
    "If the null hypothesis is H0 is rejected, then the alternate hypothesis H1 is accepted.\n"
   ]
  },
  {
   "cell_type": "markdown",
   "id": "e06bef41-6efb-48eb-8418-014507d6b343",
   "metadata": {},
   "source": [
    "When performing a Hypothesis Test, two types of errors could occur:\n",
    " - Type-I Error: reject the Null Hypothesis when it is actually true.\n",
    " - Type-II Error: accept the Null Hypothesis when it is actually false.\n",
    " \n",
    "The following table resumes Type I and Type 2 Errors:\n",
    "\n",
    "![](images/typeerrors.jpg)\n"
   ]
  },
  {
   "cell_type": "markdown",
   "id": "c2c91f0c-c467-42eb-a2d0-fdcd4742a398",
   "metadata": {},
   "source": [
    "### P-value"
   ]
  },
  {
   "cell_type": "markdown",
   "id": "b1134a7d-c86d-4992-9c2d-c953378e9213",
   "metadata": {},
   "source": [
    "A p-value is the measure of the probability that an observed difference has occured by random chance. The job of the p-value is to decide whether we should accept our Null Hypothesis or reject it. The lower the p-value, the greater the statistical significance of the observed difference. p-values are often reported whenever you perform a statistical significance test (like t-test, chi-square test etc). These tests typically return a computed test statistic and the associated p-value. This reported value is used to establish the statistical significance of the relationships being tested.\n",
    "\n",
    "If the p-value is lower than the predetermined significance value(often called alpha or threshold value) then we reject the null hypothesis. The alpha should always be set before an experiment to avoid bias.\n",
    "For example, consider a large population data to be in Normal Distribution so while selecting alpha for that distribution we select it as 0.05 (it means we are accepting if it lies in the 95% of our distribution). This means that if our p-value is less than 0.05 we will reject the null hypothesis."
   ]
  },
  {
   "cell_type": "markdown",
   "id": "c25ee718-09dd-4b4e-a7b8-a24261ab84eb",
   "metadata": {},
   "source": [
    "![](images/statisticalsignificance.jpg)"
   ]
  },
  {
   "cell_type": "markdown",
   "id": "88618fb0-cf56-44de-80e9-c2c0b7c26bec",
   "metadata": {},
   "source": [
    "## T-test"
   ]
  },
  {
   "cell_type": "markdown",
   "id": "3b6bb33a-e0d5-4bb6-8594-5e1908b56408",
   "metadata": {},
   "source": [
    "A t-test is a statistical test that is used to compare the means of two groups. It is often used in hypothesis testing to determine whether a process or treatment actually has an effect on the population of interest, or whether two groups are different from one another.\n",
    "\n",
    "The t- statistic was introduced in 1908 by William Sealy Gosset, a chemist working for the Guinness brewery in Dublin, Ireland. The t-distribution was first derived as a posterior distribution in 1876 by Helmert and Lüroth. In the English-language literature it takes its name from William Sealy Gosset’s 1908 paper in Biometrika under the pseudonym “Student.” Gosset worked at the Guinness Brewery in Dublin, Ireland, and was interested in the problems of small samples, for example of the chemical properties of barley where sample sizes might be as small as three participants. Gosset’s paper refers to the distribution as the “frequency distribution of standard deviations of samples drawn from a normal population.” It became well known through the work of Ronald A. Fisher, who called the distribution “Student’s distribution” and referred to the value as t."
   ]
  },
  {
   "cell_type": "markdown",
   "id": "c31e5063-1bb5-4762-af6f-63319d6a026d",
   "metadata": {},
   "source": [
    "Consider we ran a customer satisfaction survey for your company and there are lots of results to analyze. The company wants to know if men and women give different responses. For example, do men on average give the company a lower Net Promoter Score(NPS) than women?\n",
    "\n",
    "When checking the data, the average rating from male respondents was 9, compared to an average score of 12 from female respondents. How do you know if 9 is significantly different from 12? This is a good example to carry out t-test. The t-test is a way to determine whether two numbers are significantly different from one another. \n",
    "\n",
    "Different types of t-test:\n",
    "\n",
    " 1. One-sample t-test: If there is one group being compared against a standard value, perform a one-sample t-test. This test looks at whether the mean of data from one group is different from value specified.\n",
    " Example: The company’s goal is to have an NPS that’s significantly higher than the industry standard of 5. The company’s latest survey puts its NPS at 10. Is an NPS of 10 significantly higher than the industry standard of 5?\n",
    " \n",
    " 2. Two-sample t-test: If the groups come from two different populations (e.g. two different species), then perform a two-sample t-test. This test is also known as independent t-test. This test examines whether the means of two independent groups are significantly different from one another.\n",
    " Example: Your hypothesis is that men give your company a lower NPS than women.The average NPS from male respondents is 9, while the average score from women is 12. Is 9 significantly different from 12?\n",
    " \n",
    " 3. Paried t-test: If the groups come from a single population (e.g. measuring before and after an experimental treatment), perform a paired t-test.\n",
    " This test is for when one group of people is given the same survey twice. A paired t-test lets you know if the mean changed between the first and second survey.\n",
    " Example: You surveyed the same group of customers twice: once in April and a second time in May, after they had seen an ad for your company. Did your company’s NPS change after customers saw the ad?\n",
    " "
   ]
  },
  {
   "cell_type": "markdown",
   "id": "cf95035b-9992-4c1d-88cf-a0f4bfd835f9",
   "metadata": {},
   "source": [
    "## How to conduct a t-test\n",
    "\n",
    "1. Calculate the t-statistic:\n",
    "Each type of t-test has a different formula for calculating the t-statistic.\n",
    "\n",
    "2. Calculate the degrees of freedom: \n",
    "Degrees of freedom are the number of ways the mean could vary. In this case, the degrees of freedom are the number of NPS ratings that you could have in a given group of respondents. Similar to the t-statistic, the formula for degrees of freedom will vary depending on the type of t-test you perform.\n",
    "\n",
    "3. Determine the critical value: \n",
    "The critical value is the threshold at which the difference between two numbers is considered to be statistically significant.\n",
    "\n",
    "4. Compare absolute value of the t-statistic to critical value: \n",
    "If your t-statistic is larger than your critical value, your difference is significant. If your t-statistic is smaller, then your two numbers are, statistically speaking, indistinguishable."
   ]
  },
  {
   "cell_type": "markdown",
   "id": "1b4d2a0c-ebf0-4828-bcb6-fc78b9d9af31",
   "metadata": {},
   "source": [
    "# References"
   ]
  },
  {
   "cell_type": "markdown",
   "id": "2b96e65a-0783-4d91-8909-eed95fe04550",
   "metadata": {},
   "source": [
    "1. https://www.statisticshowto.com/probability-and-statistics/hypothesis-testing/anova/\n",
    "2. https://en.wikipedia.org/wiki/Analysis_of_variance\n",
    "3. https://www.investopedia.com/terms/a/anova.asp\n",
    "4. https://statistics.laerd.com/statistical-guides/one-way-anova-statistical-guide.php\n",
    "5. https://courses.lumenlearning.com/boundless-statistics/chapter/the-t-test/"
   ]
  },
  {
   "cell_type": "code",
   "execution_count": null,
   "id": "12fa897c-f941-46a0-8b71-1f4aad61a80b",
   "metadata": {},
   "outputs": [],
   "source": []
  }
 ],
 "metadata": {
  "kernelspec": {
   "display_name": "Python 3",
   "language": "python",
   "name": "python3"
  },
  "language_info": {
   "codemirror_mode": {
    "name": "ipython",
    "version": 3
   },
   "file_extension": ".py",
   "mimetype": "text/x-python",
   "name": "python",
   "nbconvert_exporter": "python",
   "pygments_lexer": "ipython3",
   "version": "3.8.8"
  }
 },
 "nbformat": 4,
 "nbformat_minor": 5
}

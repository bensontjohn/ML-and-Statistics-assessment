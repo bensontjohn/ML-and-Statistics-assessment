{
 "cells": [
  {
   "cell_type": "markdown",
   "id": "94f06019-9cc2-470b-943c-729a91cbea40",
   "metadata": {},
   "source": [
    "## This notebook is about scipy.stats Python library"
   ]
  },
  {
   "cell_type": "code",
   "execution_count": 8,
   "id": "382dd8cf-3c73-44f7-8773-fa08dccdc457",
   "metadata": {},
   "outputs": [],
   "source": [
    "import numpy as np\n",
    "import pandas as pd\n",
    "import matplotlib.pyplot as plt\n",
    "import scipy.stats as stats"
   ]
  },
  {
   "cell_type": "markdown",
   "id": "472d76be-628c-487a-ad8a-82519a2a3d7a",
   "metadata": {},
   "source": [
    "[1] An ANOVA test is a way to find out if survey or experiment results are significant. [2] Analysis of variance (ANOVA) is a collection of statistical models and their associated estimation procedures (such as the \"variation\" among and between groups) used to analyse the differences among means. ANOVA was developed by the statistician Ronald Fisher. ANOVA is based on the law of total variance, where the observed variance in a particular variable is partitioned into components attributable to different sources of variation. In its simplest form, ANOVA provides a statistical test of whether two or more population means are equal, and therefore generalizes the t-test beyond two means."
   ]
  },
  {
   "cell_type": "code",
   "execution_count": 2,
   "id": "2ed41a4e-f75b-4b4b-a3d6-dd136d11ca65",
   "metadata": {},
   "outputs": [
    {
     "data": {
      "text/plain": [
       "F_onewayResult(statistic=1.7744689357329695, pvalue=0.13173183201930463)"
      ]
     },
     "execution_count": 2,
     "metadata": {},
     "output_type": "execute_result"
    }
   ],
   "source": [
    "np.random.seed(12)\n",
    "\n",
    "races =   [\"asian\",\"black\",\"hispanic\",\"other\",\"white\"]\n",
    "\n",
    "# Generate random data\n",
    "voter_race = np.random.choice(a= races,\n",
    "                              p = [0.05, 0.15 ,0.25, 0.05, 0.5],\n",
    "                              size=1000)\n",
    "\n",
    "voter_age = stats.poisson.rvs(loc=18,\n",
    "                              mu=30,\n",
    "                              size=1000)\n",
    "\n",
    "# Group age data by race\n",
    "voter_frame = pd.DataFrame({\"race\":voter_race,\"age\":voter_age})\n",
    "groups = voter_frame.groupby(\"race\").groups\n",
    "\n",
    "# Etract individual groups\n",
    "asian = voter_age[groups[\"asian\"]]\n",
    "black = voter_age[groups[\"black\"]]\n",
    "hispanic = voter_age[groups[\"hispanic\"]]\n",
    "other = voter_age[groups[\"other\"]]\n",
    "white = voter_age[groups[\"white\"]]\n",
    "\n",
    "# Perform the ANOVA\n",
    "stats.f_oneway(asian, black, hispanic, other, white)"
   ]
  },
  {
   "cell_type": "code",
   "execution_count": 3,
   "id": "df444e93-7a9d-4f1a-88d8-4f8c204f5e74",
   "metadata": {},
   "outputs": [
    {
     "name": "stdout",
     "output_type": "stream",
     "text": [
      "             sum_sq     df         F    PR(>F)\n",
      "race        199.369    4.0  1.774469  0.131732\n",
      "Residual  27948.102  995.0       NaN       NaN\n"
     ]
    }
   ],
   "source": [
    "import statsmodels.api as sm\n",
    "from statsmodels.formula.api import ols\n",
    "\n",
    "model = ols('age ~ race',                 # Model formula\n",
    "            data = voter_frame).fit()\n",
    "                \n",
    "anova_result = sm.stats.anova_lm(model, typ=2)\n",
    "print (anova_result)"
   ]
  },
  {
   "cell_type": "markdown",
   "id": "ec21955f-8767-4bb9-8de3-ee5192fcf5a5",
   "metadata": {},
   "source": [
    "np.random.seed(12)\n",
    "\n",
    "# Generate random data\n",
    "voter_race = np.random.choice(a= races,\n",
    "                              p = [0.05, 0.15 ,0.25, 0.05, 0.5],\n",
    "                              size=1000)\n",
    "\n",
    "# Use a different distribution for white ages\n",
    "white_ages = stats.poisson.rvs(loc=18, \n",
    "                              mu=32,\n",
    "                              size=1000)\n",
    "\n",
    "voter_age = stats.poisson.rvs(loc=18,\n",
    "                              mu=30,\n",
    "                              size=1000)\n",
    "\n",
    "voter_age = np.where(voter_race==\"white\", white_ages, voter_age)\n",
    "\n",
    "# Group age data by race\n",
    "voter_frame = pd.DataFrame({\"race\":voter_race,\"age\":voter_age})\n",
    "groups = voter_frame.groupby(\"race\").groups   \n",
    "\n",
    "# Extract individual groups\n",
    "asian = voter_age[groups[\"asian\"]]\n",
    "black = voter_age[groups[\"black\"]]\n",
    "hispanic = voter_age[groups[\"hispanic\"]]\n",
    "other = voter_age[groups[\"other\"]]\n",
    "white = voter_age[groups[\"white\"]]\n",
    "\n",
    "# Perform the ANOVA\n",
    "stats.f_oneway(asian, black, hispanic, other, white)"
   ]
  },
  {
   "cell_type": "markdown",
   "id": "3726278c-c72f-44e6-b892-5d92435cc1f5",
   "metadata": {},
   "source": [
    "### Hypothesis testing"
   ]
  },
  {
   "cell_type": "markdown",
   "id": "8b38edfc-ddff-4d6c-98a6-3042e4c698d4",
   "metadata": {},
   "source": [
    "Hypothesis testing is a statistical method that is used in making statistical decisions using experimental data. It is an essential procedure in statistics that evaluates two mutually exclusive statements about a population to determine which statement is best supported by the sample data. Hypothesis test is the reason to find something statistically signififcant.\n",
    "\n",
    "The intent of hypothesis testing is formally examine two opposing conjectures (hypotheses), H0 and HA. These two hypotheses are mutually exclusive and\n",
    "exhaustive so that one is true to the exclusion of the other."
   ]
  },
  {
   "cell_type": "markdown",
   "id": "fc14c349-57f4-488b-b588-efe2b1088981",
   "metadata": {},
   "source": [
    "**Null hypothesis :** This hypothesis is a default position that there is no relationship  between two measured phenomena, or no association among groups. It is a basic assumption or made based on domain or problem knowledge."
   ]
  },
  {
   "cell_type": "markdown",
   "id": "983d02c3-1f3c-409d-8c9a-43576a246363",
   "metadata": {},
   "source": [
    "**Alternative hypothesis :** This hypothesis testing that is contrary to the null hypothesis.  It is usually taken to be that the observations are the result of a real effect. "
   ]
  },
  {
   "cell_type": "markdown",
   "id": "84645be7-eaed-4067-8f7f-9bb01673700f",
   "metadata": {},
   "source": [
    "![](images/Hypothesis.jpg)"
   ]
  },
  {
   "cell_type": "markdown",
   "id": "986cf654-963f-4c34-8503-fe7636aad9f0",
   "metadata": {},
   "source": [
    "Hypothesis testing involves the statement of a null hypothesis and the selection of a level of significance. The level of significance refers to the degree of significance in which we accept or reject the null-hypothesis. The null hypothesis is either true or false and represents the default claim for a treatment or procedure. For example, when examining the effectiveness of a drug, the null hypothesis would be that the drug has no effect on a disease.\n",
    "\n",
    "After formulating the null hypothesis and choosing a level of significance, we acquire data through observation. Statistical calculations tell us whether or not we should reject the null hypothesis.\n",
    "\n",
    "In an ideal world, we would always reject the null hypothesis when it is false, and we would not reject the null hypothesis when it is indeed true."
   ]
  },
  {
   "cell_type": "markdown",
   "id": "c1e4e78c-9625-4f72-a2fd-7a0e0692fae9",
   "metadata": {},
   "source": [
    "To demonstrate, take an example where a person has a visible bump in their stomach. Doctors may assume that the bump is fibroid. \n",
    "\n",
    "Lets take our initial conclusion (null hypothesis) is that same person has a fibroid while the alternate hypothesis is that the person does not have a fibroid.\n",
    "\n",
    "Null Hypothesis - H0\n",
    "Alternate Hypothesis - H1\n",
    "\n",
    "For hypothesis testing, the data pertaining to the hypothesis is collected and analysed to decide whether the null Hypothesis(H0) can be accepted or rejected.\n",
    "If the null hypothesis is H0 is rejected, then the alternate hypothesis H1 is accepted.\n"
   ]
  },
  {
   "cell_type": "markdown",
   "id": "c2c91f0c-c467-42eb-a2d0-fdcd4742a398",
   "metadata": {},
   "source": []
  },
  {
   "cell_type": "markdown",
   "id": "1b4d2a0c-ebf0-4828-bcb6-fc78b9d9af31",
   "metadata": {},
   "source": [
    "# References"
   ]
  },
  {
   "cell_type": "markdown",
   "id": "2b96e65a-0783-4d91-8909-eed95fe04550",
   "metadata": {},
   "source": [
    "1. https://www.statisticshowto.com/probability-and-statistics/hypothesis-testing/anova/\n",
    "2. https://en.wikipedia.org/wiki/Analysis_of_variance\n",
    "3. https://www.investopedia.com/terms/a/anova.asp\n",
    "4. https://statistics.laerd.com/statistical-guides/one-way-anova-statistical-guide.php"
   ]
  },
  {
   "cell_type": "code",
   "execution_count": null,
   "id": "12fa897c-f941-46a0-8b71-1f4aad61a80b",
   "metadata": {},
   "outputs": [],
   "source": []
  }
 ],
 "metadata": {
  "kernelspec": {
   "display_name": "Python 3",
   "language": "python",
   "name": "python3"
  },
  "language_info": {
   "codemirror_mode": {
    "name": "ipython",
    "version": 3
   },
   "file_extension": ".py",
   "mimetype": "text/x-python",
   "name": "python",
   "nbconvert_exporter": "python",
   "pygments_lexer": "ipython3",
   "version": "3.8.8"
  }
 },
 "nbformat": 4,
 "nbformat_minor": 5
}

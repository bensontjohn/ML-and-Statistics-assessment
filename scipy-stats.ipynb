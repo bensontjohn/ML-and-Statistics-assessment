{
 "cells": [
  {
   "cell_type": "markdown",
   "id": "94f06019-9cc2-470b-943c-729a91cbea40",
   "metadata": {},
   "source": [
    "## This notebook is about scipy.stats Python library"
   ]
  },
  {
   "cell_type": "code",
   "execution_count": 1,
   "id": "382dd8cf-3c73-44f7-8773-fa08dccdc457",
   "metadata": {},
   "outputs": [],
   "source": [
    "import numpy as np\n",
    "import pandas as pd"
   ]
  },
  {
   "cell_type": "markdown",
   "id": "472d76be-628c-487a-ad8a-82519a2a3d7a",
   "metadata": {},
   "source": [
    "[1] An ANOVA test is a way to find out if survey or experiment results are significant. [2] Analysis of variance (ANOVA) is a collection of statistical models and their associated estimation procedures (such as the \"variation\" among and between groups) used to analyse the differences among means. ANOVA was developed by the statistician Ronald Fisher. ANOVA is based on the law of total variance, where the observed variance in a particular variable is partitioned into components attributable to different sources of variation. In its simplest form, ANOVA provides a statistical test of whether two or more population means are equal, and therefore generalizes the t-test beyond two means."
   ]
  },
  {
   "cell_type": "markdown",
   "id": "1b4d2a0c-ebf0-4828-bcb6-fc78b9d9af31",
   "metadata": {},
   "source": [
    "# References"
   ]
  },
  {
   "cell_type": "markdown",
   "id": "2b96e65a-0783-4d91-8909-eed95fe04550",
   "metadata": {},
   "source": [
    "1. https://www.statisticshowto.com/probability-and-statistics/hypothesis-testing/anova/\n",
    "2. https://en.wikipedia.org/wiki/Analysis_of_variance\n",
    "3. https://www.investopedia.com/terms/a/anova.asp\n",
    "4. https://statistics.laerd.com/statistical-guides/one-way-anova-statistical-guide.php"
   ]
  },
  {
   "cell_type": "code",
   "execution_count": null,
   "id": "12fa897c-f941-46a0-8b71-1f4aad61a80b",
   "metadata": {},
   "outputs": [],
   "source": []
  }
 ],
 "metadata": {
  "kernelspec": {
   "display_name": "Python 3",
   "language": "python",
   "name": "python3"
  },
  "language_info": {
   "codemirror_mode": {
    "name": "ipython",
    "version": 3
   },
   "file_extension": ".py",
   "mimetype": "text/x-python",
   "name": "python",
   "nbconvert_exporter": "python",
   "pygments_lexer": "ipython3",
   "version": "3.8.8"
  }
 },
 "nbformat": 4,
 "nbformat_minor": 5
}
